{
  "nbformat": 4,
  "nbformat_minor": 0,
  "metadata": {
    "colab": {
      "provenance": []
    },
    "kernelspec": {
      "name": "python3",
      "display_name": "Python 3"
    },
    "language_info": {
      "name": "python"
    }
  },
  "cells": [
    {
      "cell_type": "markdown",
      "source": [
        "Import Libraries and Load the Data"
      ],
      "metadata": {
        "id": "3lYRGbZxa7E6"
      }
    },
    {
      "cell_type": "code",
      "execution_count": null,
      "metadata": {
        "id": "c5ey1bEuafX_"
      },
      "outputs": [],
      "source": [
        "#Import Libraries and Load the Data\n",
        "import pandas as pd\n",
        "import matplotlib.pyplot as plt\n",
        "import seaborn as sns\n",
        "column_names = ['user_id', 'item_id', 'rating', 'timestamp']\n",
        "path = 'file.tsv'\n",
        "df = pd.read_csv(path, sep='\\t', names=column_names)\n",
        "df.head()"
      ]
    },
    {
      "cell_type": "markdown",
      "source": [
        "Loading Movie Titles"
      ],
      "metadata": {
        "id": "wwb-TXVtbphS"
      }
    },
    {
      "cell_type": "code",
      "source": [
        "#Loading Movie Titles\n",
        "movie_titles = pd.read_csv('Movie_Id_Titles.csv')\n",
        "movie_titles.head()"
      ],
      "metadata": {
        "id": "MXBppR9VbocP"
      },
      "execution_count": null,
      "outputs": []
    },
    {
      "cell_type": "markdown",
      "source": [
        "Merging Both Datasets"
      ],
      "metadata": {
        "id": "40Npaifjb1gl"
      }
    },
    {
      "cell_type": "code",
      "source": [
        "#Merging Both Datasets\n",
        "data = pd.merge(df, movie_titles, on='item_id')\n",
        "data.head()"
      ],
      "metadata": {
        "id": "1zlLqD0obyi9"
      },
      "execution_count": null,
      "outputs": []
    },
    {
      "cell_type": "markdown",
      "source": [
        " Analyzing Movie Ratings"
      ],
      "metadata": {
        "id": "N0RDnqlecPo3"
      }
    },
    {
      "cell_type": "code",
      "source": [
        "# Analyzing Movie Ratings\n",
        "data.groupby('title')['rating'].mean().sort_values(ascending=False).head()"
      ],
      "metadata": {
        "id": "Ihok2uiYcKfD"
      },
      "execution_count": null,
      "outputs": []
    },
    {
      "cell_type": "code",
      "source": [
        "data.groupby('title')['rating'].count().sort_values(ascending=False).head()"
      ],
      "metadata": {
        "id": "Nt1i8uTdcvXP"
      },
      "execution_count": null,
      "outputs": []
    },
    {
      "cell_type": "markdown",
      "source": [
        "Creating a Ratings DataFrame"
      ],
      "metadata": {
        "id": "SaMMQ8Gfc9oW"
      }
    },
    {
      "cell_type": "code",
      "source": [
        "#Creating a Ratings DataFrame\n",
        "ratings = pd.DataFrame(data.groupby('title')['rating'].mean())\n",
        "ratings['num of ratings'] = pd.DataFrame(data.groupby('title')['rating'].count())\n",
        "ratings.head()"
      ],
      "metadata": {
        "id": "9HpGxR1Rc5TV"
      },
      "execution_count": null,
      "outputs": []
    },
    {
      "cell_type": "markdown",
      "source": [
        "Visualizing Ratings"
      ],
      "metadata": {
        "id": "zvHMlmT6dQWA"
      }
    },
    {
      "cell_type": "code",
      "source": [
        "#Visualizing Ratings\n",
        "sns.set_style('white')\n",
        "%matplotlib inline\n",
        "plt.figure(figsize =(10, 4))\n",
        "ratings['num of ratings'].hist(bins = 70)"
      ],
      "metadata": {
        "id": "gUzQkhOTdLaM"
      },
      "execution_count": null,
      "outputs": []
    },
    {
      "cell_type": "markdown",
      "source": [
        "Visualizing average ratings"
      ],
      "metadata": {
        "id": "upfNqxN7dpoM"
      }
    },
    {
      "cell_type": "code",
      "source": [
        "#Visualizing average ratings\n",
        "plt.figure(figsize =(10, 4))\n",
        "ratings['rating'].hist(bins = 70)"
      ],
      "metadata": {
        "id": "35P5hy8Idl8w"
      },
      "execution_count": null,
      "outputs": []
    },
    {
      "cell_type": "markdown",
      "source": [
        "Creating User-Movie Matrix"
      ],
      "metadata": {
        "id": "u89Cuggjd3z0"
      }
    },
    {
      "cell_type": "code",
      "source": [
        "#Creating User-Movie Matrix\n",
        "moviemat = data.pivot_table(index ='user_id',\n",
        "              columns ='title', values ='rating')\n",
        "moviemat.head()\n",
        "ratings.sort_values('num of ratings', ascending = False).head(10)"
      ],
      "metadata": {
        "id": "1kFFG1FpdyP5"
      },
      "execution_count": null,
      "outputs": []
    },
    {
      "cell_type": "markdown",
      "source": [
        "Finding Similar Movies"
      ],
      "metadata": {
        "id": "A1vJ9pEmeFm6"
      }
    },
    {
      "cell_type": "code",
      "source": [
        "#Finding Similar Movies\n",
        "starwars_user_ratings = moviemat['Star Wars (1977)']\n",
        "liarliar_user_ratings = moviemat['Liar Liar (1997)']\n",
        "starwars_user_ratings.head()"
      ],
      "metadata": {
        "id": "-b7f9gAueDQA"
      },
      "execution_count": null,
      "outputs": []
    },
    {
      "cell_type": "markdown",
      "source": [
        "creating DataFrame to store correlations"
      ],
      "metadata": {
        "id": "4o8qnXi8ecfx"
      }
    },
    {
      "cell_type": "code",
      "source": [
        "#creating DataFrame to store correlations\n",
        "similar_to_starwars = moviemat.corrwith(starwars_user_ratings)\n",
        "similar_to_liarliar = moviemat.corrwith(liarliar_user_ratings)\n",
        "corr_starwars = pd.DataFrame(similar_to_starwars, columns =['Correlation'])\n",
        "corr_starwars.dropna(inplace = True)\n",
        "corr_starwars.head()"
      ],
      "metadata": {
        "id": "L80aq5QReXjt"
      },
      "execution_count": null,
      "outputs": []
    },
    {
      "cell_type": "markdown",
      "source": [
        " Filter Movies with Enough Ratings"
      ],
      "metadata": {
        "id": "EYKeRIImew5j"
      }
    },
    {
      "cell_type": "code",
      "source": [
        "# Filter Movies with Enough Ratings\n",
        "corr_starwars.sort_values('Correlation', ascending = False).head(10)\n",
        "corr_starwars = corr_starwars.join(ratings['num of ratings'])\n",
        "corr_starwars.head()\n",
        "corr_starwars[corr_starwars['num of ratings']>100].sort_values('Correlation', ascending = False).head()"
      ],
      "metadata": {
        "id": "8-kbmIMTesxk"
      },
      "execution_count": null,
      "outputs": []
    },
    {
      "cell_type": "markdown",
      "source": [
        "Trying Another Example"
      ],
      "metadata": {
        "id": "gX_5OElFfI9E"
      }
    },
    {
      "cell_type": "code",
      "source": [
        "#Trying Another Example\n",
        "corr_liarliar = pd.DataFrame(similar_to_liarliar, columns =['Correlation'])\n",
        "corr_liarliar.dropna(inplace = True)\n",
        "corr_liarliar = corr_liarliar.join(ratings['num of ratings'])\n",
        "corr_liarliar[corr_liarliar['num of ratings']>100].sort_values('Correlation', ascending = False).head()"
      ],
      "metadata": {
        "id": "bJ6yFwFCfA1p"
      },
      "execution_count": null,
      "outputs": []
    }
  ]
}